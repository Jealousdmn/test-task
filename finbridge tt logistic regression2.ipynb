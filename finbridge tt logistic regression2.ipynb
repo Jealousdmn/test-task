{
 "cells": [
  {
   "cell_type": "code",
   "execution_count": 1,
   "id": "aea38f55",
   "metadata": {},
   "outputs": [],
   "source": [
    "import pandas as pd\n",
    "import numpy as np\n",
    "import pickle\n",
    "\n",
    "import seaborn as sns\n",
    "import matplotlib.pyplot as plt\n",
    "\n",
    "\n",
    "from sklearn.model_selection import train_test_split, StratifiedKFold, GridSearchCV\n",
    "from sklearn.linear_model import LogisticRegression\n",
    "from sklearn.metrics import precision_score, recall_score, auc, accuracy_score, roc_auc_score,f1_score,log_loss,\\\n",
    "classification_report, roc_curve\n",
    "\n",
    "import warnings\n",
    "warnings.filterwarnings(\"ignore\");\n",
    "\n",
    "RAND = 10"
   ]
  },
  {
   "cell_type": "code",
   "execution_count": 2,
   "id": "fa5d724b",
   "metadata": {},
   "outputs": [],
   "source": [
    "df = pd.read_csv('/Users/mars/Desktop/Finbridge tt/train.csv')"
   ]
  },
  {
   "cell_type": "code",
   "execution_count": 3,
   "id": "d8a676ef",
   "metadata": {},
   "outputs": [],
   "source": [
    "df = df.drop(df.columns[[0]], axis = 1)"
   ]
  },
  {
   "cell_type": "code",
   "execution_count": 4,
   "id": "771cb653",
   "metadata": {},
   "outputs": [],
   "source": [
    "df = df.drop(['customer_ID', 'S_2', 'B_30', 'B_38', 'D_114', 'D_116', 'D_117', 'D_120', 'D_126', 'D_63', 'D_64', 'D_66', 'D_68'], axis=1)"
   ]
  },
  {
   "cell_type": "code",
   "execution_count": 5,
   "id": "be48bffc",
   "metadata": {},
   "outputs": [],
   "source": [
    "df = df.fillna(df.mean())"
   ]
  },
  {
   "cell_type": "code",
   "execution_count": 6,
   "id": "22c97ee6",
   "metadata": {},
   "outputs": [],
   "source": [
    "X = df.drop('target', axis=1)\n",
    "y = df['target']\n",
    "\n",
    "X_train, X_test, y_train, y_test = train_test_split(\n",
    "    X, y, test_size=0.25, stratify=y, shuffle=True, random_state=RAND)"
   ]
  },
  {
   "cell_type": "code",
   "execution_count": 7,
   "id": "76be963a",
   "metadata": {},
   "outputs": [],
   "source": [
    "lr = LogisticRegression()\n",
    "lr.fit(X_train, y_train)\n",
    "\n",
    "y_pred = lr.predict(X_test)\n",
    "y_score = lr.predict_proba(X_test)[:,1]"
   ]
  },
  {
   "cell_type": "code",
   "execution_count": 8,
   "id": "0c03ff3c",
   "metadata": {},
   "outputs": [
    {
     "data": {
      "text/plain": [
       "array([0.95247198, 0.99981515, 0.00363107, ..., 0.01793041, 0.01394754,\n",
       "       0.54390267])"
      ]
     },
     "execution_count": 8,
     "metadata": {},
     "output_type": "execute_result"
    }
   ],
   "source": [
    "y_score"
   ]
  },
  {
   "cell_type": "code",
   "execution_count": 9,
   "id": "86245643",
   "metadata": {},
   "outputs": [
    {
     "name": "stdout",
     "output_type": "stream",
     "text": [
      "roc-auc: 0.9549464186063622\n",
      "precision: 0.8129697605313756\n",
      "recall: 0.7764283627561454\n",
      "f1: 0.7942790052300139\n",
      "logloss: 3.6109875501177675\n"
     ]
    }
   ],
   "source": [
    "print('roc-auc:', roc_auc_score(y_test, y_score))\n",
    "print('precision:', precision_score(y_test, y_pred))\n",
    "print('recall:', recall_score(y_test, y_pred))\n",
    "print('f1:', f1_score(y_test, y_pred))\n",
    "print('logloss:', log_loss(y_test, y_pred))"
   ]
  },
  {
   "cell_type": "code",
   "execution_count": 10,
   "id": "195be659",
   "metadata": {},
   "outputs": [],
   "source": [
    "metrics = pd.DataFrame(\n",
    "    index=['roc-auc', 'precision', 'recall', 'f1', 'logloss'])\n",
    "\n",
    "metrics['Baseline_LR'] = [roc_auc_score(y_test, y_score),\n",
    "                          precision_score(y_test, y_pred),\n",
    "                          recall_score(y_test, y_pred),\n",
    "                          f1_score(y_test, y_pred),\n",
    "                          log_loss(y_test, y_pred)]"
   ]
  },
  {
   "cell_type": "code",
   "execution_count": 11,
   "id": "4fa8e253",
   "metadata": {},
   "outputs": [
    {
     "data": {
      "text/html": [
       "<div>\n",
       "<style scoped>\n",
       "    .dataframe tbody tr th:only-of-type {\n",
       "        vertical-align: middle;\n",
       "    }\n",
       "\n",
       "    .dataframe tbody tr th {\n",
       "        vertical-align: top;\n",
       "    }\n",
       "\n",
       "    .dataframe thead th {\n",
       "        text-align: right;\n",
       "    }\n",
       "</style>\n",
       "<table border=\"1\" class=\"dataframe\">\n",
       "  <thead>\n",
       "    <tr style=\"text-align: right;\">\n",
       "      <th></th>\n",
       "      <th>Baseline_LR</th>\n",
       "    </tr>\n",
       "  </thead>\n",
       "  <tbody>\n",
       "    <tr>\n",
       "      <th>roc-auc</th>\n",
       "      <td>0.954946</td>\n",
       "    </tr>\n",
       "    <tr>\n",
       "      <th>precision</th>\n",
       "      <td>0.812970</td>\n",
       "    </tr>\n",
       "    <tr>\n",
       "      <th>recall</th>\n",
       "      <td>0.776428</td>\n",
       "    </tr>\n",
       "    <tr>\n",
       "      <th>f1</th>\n",
       "      <td>0.794279</td>\n",
       "    </tr>\n",
       "    <tr>\n",
       "      <th>logloss</th>\n",
       "      <td>3.610988</td>\n",
       "    </tr>\n",
       "  </tbody>\n",
       "</table>\n",
       "</div>"
      ],
      "text/plain": [
       "           Baseline_LR\n",
       "roc-auc       0.954946\n",
       "precision     0.812970\n",
       "recall        0.776428\n",
       "f1            0.794279\n",
       "logloss       3.610988"
      ]
     },
     "execution_count": 11,
     "metadata": {},
     "output_type": "execute_result"
    }
   ],
   "source": [
    "metrics"
   ]
  },
  {
   "cell_type": "code",
   "execution_count": 12,
   "id": "06cd7e21",
   "metadata": {},
   "outputs": [
    {
     "data": {
      "image/png": "[encoded data removed]",
      "text/plain": [
       "<Figure size 432x288 with 1 Axes>"
      ]
     },
     "metadata": {
      "needs_background": "light"
     },
     "output_type": "display_data"
    }
   ],
   "source": [
    "fpr, tpr, thresholds = roc_curve(y_test, y_score)\n",
    "\n",
    "roc_auc = auc(fpr, tpr)\n",
    "\n",
    "plt.plot(fpr, tpr, color='darkorange', label='ROC curve (area = %0.2f)' % roc_auc)\n",
    "plt.plot([0, 1], [0, 1], color='navy', lw=2, linestyle='--')\n",
    "plt.xlim([0.0, 1.0])\n",
    "plt.ylim([0.0, 1.05])\n",
    "\n",
    "plt.xlabel('False Positive Rate')\n",
    "plt.ylabel('True Positive Rate')\n",
    "\n",
    "plt.title('Logistic Regression ROC AUC = %0.3f' % roc_auc)\n",
    "plt.legend(loc=\"lower right\")\n",
    "plt.show()"
   ]
  },
  {
   "cell_type": "code",
   "execution_count": 13,
   "id": "9c75daff",
   "metadata": {},
   "outputs": [],
   "source": [
    "parameters_grid = {\n",
    "    'penalty': ['l1', 'l2', 'elasticnet'],\n",
    "    'C': np.linspace(1, 1000, num=5),\n",
    "    'solver': ['sag', 'saga', 'lbfgs'],\n",
    "    'l1_ratio': [0.25, 0.5, 0.75],\n",
    "    'max_iter': np.arange(100, 500, 100)\n",
    "}\n",
    "\n",
    "lr = LogisticRegression(class_weight='balanced')\n",
    "cv = StratifiedKFold(n_splits=3, shuffle=True)\n",
    "grid_cv = GridSearchCV(lr, parameters_grid,\n",
    "                       scoring='roc_auc', cv=cv, verbose=2)"
   ]
  },
  {
   "cell_type": "code",
   "execution_count": 14,
   "id": "3c552196",
   "metadata": {},
   "outputs": [],
   "source": [
    "# производим обучение по сетке (долго)\n",
    "#grid_cv.fit(X_train, y_train)"
   ]
  },
  {
   "cell_type": "code",
   "execution_count": 15,
   "id": "90f72634",
   "metadata": {},
   "outputs": [],
   "source": [
    "#print(grid_cv.best_score_)\n",
    "#print(grid_cv.best_params_)"
   ]
  },
  {
   "cell_type": "code",
   "execution_count": 16,
   "id": "a46ee1e8",
   "metadata": {},
   "outputs": [],
   "source": [
    "best_params = {'C': 1.0, \n",
    "               'l1_ratio': 0.25,\n",
    "               'max_iter': 400, \n",
    "               'penalty': 'l2', \n",
    "               'solver': 'lbfgs'}"
   ]
  },
  {
   "cell_type": "code",
   "execution_count": 17,
   "id": "d751abdf",
   "metadata": {},
   "outputs": [],
   "source": [
    "lr_gr = LogisticRegression(**best_params, class_weight='balanced')\n",
    "lr_gr.fit(X_train, y_train)\n",
    "\n",
    "y_pred_gr = lr_gr.predict(X_test)\n",
    "y_score_gr = lr_gr.predict_proba(X_test)[:,1]"
   ]
  },
  {
   "cell_type": "code",
   "execution_count": 18,
   "id": "d6bb4153",
   "metadata": {},
   "outputs": [
    {
     "data": {
      "text/plain": [
       "array([0.98343276, 0.99996761, 0.00906988, ..., 0.03792321, 0.03601689,\n",
       "       0.78567282])"
      ]
     },
     "execution_count": 18,
     "metadata": {},
     "output_type": "execute_result"
    }
   ],
   "source": [
    "y_score_gr"
   ]
  },
  {
   "cell_type": "code",
   "execution_count": 19,
   "id": "897d1252",
   "metadata": {},
   "outputs": [
    {
     "name": "stdout",
     "output_type": "stream",
     "text": [
      "roc-auc: 0.9550553643518782\n",
      "precision: 0.7181158938194399\n",
      "recall: 0.9009640666082384\n",
      "f1: 0.7992151491031598\n",
      "logloss: 4.064406727681439\n"
     ]
    }
   ],
   "source": [
    "print('roc-auc:', roc_auc_score(y_test, y_score_gr))\n",
    "print('precision:', precision_score(y_test, y_pred_gr))\n",
    "print('recall:', recall_score(y_test, y_pred_gr))\n",
    "print('f1:', f1_score(y_test, y_pred_gr))\n",
    "print('logloss:', log_loss(y_test, y_pred_gr))"
   ]
  },
  {
   "cell_type": "code",
   "execution_count": 20,
   "id": "30409251",
   "metadata": {},
   "outputs": [
    {
     "data": {
      "image/png": "[encoded data removed]",
      "text/plain": [
       "<Figure size 432x288 with 1 Axes>"
      ]
     },
     "metadata": {
      "needs_background": "light"
     },
     "output_type": "display_data"
    }
   ],
   "source": [
    "fpr_2, tpr_2, thresholds_2 = roc_curve(y_test, y_score_gr)\n",
    "\n",
    "roc_auc_2 = auc(fpr_2, tpr_2)\n",
    "\n",
    "plt.plot(fpr, tpr, color='darkorange', label='ROC curve (area = %0.2f)' % roc_auc)\n",
    "plt.plot(fpr_2, tpr_2, color='green', label='ROC curve (area = %0.2f)' % roc_auc_2)\n",
    "plt.plot([0, 1], [0, 1], color='navy', lw=2, linestyle='--')\n",
    "plt.xlim([0.0, 1.0])\n",
    "plt.ylim([0.0, 1.05])\n",
    "\n",
    "plt.xlabel('False Positive Rate')\n",
    "plt.ylabel('True Positive Rate')\n",
    "\n",
    "plt.title('Logistic Regression ROC AUC = %0.3f' % roc_auc)\n",
    "plt.legend(loc=\"lower right\")\n",
    "plt.show()"
   ]
  },
  {
   "cell_type": "code",
   "execution_count": 21,
   "id": "d0c6f5e0",
   "metadata": {},
   "outputs": [],
   "source": [
    "metrics['Grid_LR'] = [roc_auc_score(y_test, y_score_gr),\n",
    "                      precision_score(y_test, y_pred_gr),\n",
    "                      recall_score(y_test, y_pred_gr),\n",
    "                      f1_score(y_test, y_pred_gr),\n",
    "                      log_loss(y_test, y_pred_gr)]"
   ]
  },
  {
   "cell_type": "code",
   "execution_count": 22,
   "id": "e773e4b4",
   "metadata": {},
   "outputs": [
    {
     "data": {
      "text/html": [
       "<style type=\"text/css\">\n",
       "#T_2d270_row0_col1, #T_2d270_row1_col0, #T_2d270_row2_col1, #T_2d270_row3_col1 {\n",
       "  background-color: lightblue;\n",
       "}\n",
       "</style>\n",
       "<table id=\"T_2d270\">\n",
       "  <thead>\n",
       "    <tr>\n",
       "      <th class=\"blank level0\" >&nbsp;</th>\n",
       "      <th id=\"T_2d270_level0_col0\" class=\"col_heading level0 col0\" >Baseline_LR</th>\n",
       "      <th id=\"T_2d270_level0_col1\" class=\"col_heading level0 col1\" >Grid_LR</th>\n",
       "    </tr>\n",
       "  </thead>\n",
       "  <tbody>\n",
       "    <tr>\n",
       "      <th id=\"T_2d270_level0_row0\" class=\"row_heading level0 row0\" >roc-auc</th>\n",
       "      <td id=\"T_2d270_row0_col0\" class=\"data row0 col0\" >0.954946</td>\n",
       "      <td id=\"T_2d270_row0_col1\" class=\"data row0 col1\" >0.955055</td>\n",
       "    </tr>\n",
       "    <tr>\n",
       "      <th id=\"T_2d270_level0_row1\" class=\"row_heading level0 row1\" >precision</th>\n",
       "      <td id=\"T_2d270_row1_col0\" class=\"data row1 col0\" >0.812970</td>\n",
       "      <td id=\"T_2d270_row1_col1\" class=\"data row1 col1\" >0.718116</td>\n",
       "    </tr>\n",
       "    <tr>\n",
       "      <th id=\"T_2d270_level0_row2\" class=\"row_heading level0 row2\" >recall</th>\n",
       "      <td id=\"T_2d270_row2_col0\" class=\"data row2 col0\" >0.776428</td>\n",
       "      <td id=\"T_2d270_row2_col1\" class=\"data row2 col1\" >0.900964</td>\n",
       "    </tr>\n",
       "    <tr>\n",
       "      <th id=\"T_2d270_level0_row3\" class=\"row_heading level0 row3\" >f1</th>\n",
       "      <td id=\"T_2d270_row3_col0\" class=\"data row3 col0\" >0.794279</td>\n",
       "      <td id=\"T_2d270_row3_col1\" class=\"data row3 col1\" >0.799215</td>\n",
       "    </tr>\n",
       "  </tbody>\n",
       "</table>\n"
      ],
      "text/plain": [
       "<pandas.io.formats.style.Styler at 0x14da32940>"
      ]
     },
     "execution_count": 22,
     "metadata": {},
     "output_type": "execute_result"
    }
   ],
   "source": [
    "metrics[:-1].style.highlight_max(axis=1, color='lightblue')"
   ]
  },
  {
   "cell_type": "code",
   "execution_count": 23,
   "id": "96ee7574",
   "metadata": {},
   "outputs": [],
   "source": [
    "import shap"
   ]
  },
  {
   "cell_type": "code",
   "execution_count": 24,
   "id": "5896fcf4",
   "metadata": {},
   "outputs": [],
   "source": [
    "explainer = shap.LinearExplainer(lr_gr, X_train, feature_dependence=\"independent\")\n",
    "shap_values = explainer(X_test)"
   ]
  },
  {
   "cell_type": "code",
   "execution_count": 25,
   "id": "1356e16d",
   "metadata": {},
   "outputs": [
    {
     "data": {
      "image/png": "[encoded data removed]",
      "text/plain": [
       "<Figure size 576x684 with 2 Axes>"
      ]
     },
     "metadata": {
      "needs_background": "light"
     },
     "output_type": "display_data"
    }
   ],
   "source": [
    "# summary plot\n",
    "shap.summary_plot(shap_values, X_test)"
   ]
  },
  {
   "cell_type": "code",
   "execution_count": 26,
   "id": "1c2a6dab",
   "metadata": {},
   "outputs": [],
   "source": [
    "df_test = pd.read_csv('/Users/mars/Desktop/Finbridge tt/test_fb.csv')"
   ]
  },
  {
   "cell_type": "code",
   "execution_count": 27,
   "id": "ae361239",
   "metadata": {},
   "outputs": [],
   "source": [
    "cust_id = df_test['customer_ID']"
   ]
  },
  {
   "cell_type": "code",
   "execution_count": 28,
   "id": "22cb243a",
   "metadata": {},
   "outputs": [],
   "source": [
    "df_test = df_test.drop(df_test.columns[[0]], axis = 1)"
   ]
  },
  {
   "cell_type": "code",
   "execution_count": 29,
   "id": "d616a86b",
   "metadata": {},
   "outputs": [
    {
     "data": {
      "text/html": [
       "<div>\n",
       "<style scoped>\n",
       "    .dataframe tbody tr th:only-of-type {\n",
       "        vertical-align: middle;\n",
       "    }\n",
       "\n",
       "    .dataframe tbody tr th {\n",
       "        vertical-align: top;\n",
       "    }\n",
       "\n",
       "    .dataframe thead th {\n",
       "        text-align: right;\n",
       "    }\n",
       "</style>\n",
       "<table border=\"1\" class=\"dataframe\">\n",
       "  <thead>\n",
       "    <tr style=\"text-align: right;\">\n",
       "      <th></th>\n",
       "      <th>customer_ID</th>\n",
       "      <th>S_2</th>\n",
       "      <th>P_2</th>\n",
       "      <th>D_39</th>\n",
       "      <th>B_1</th>\n",
       "      <th>B_2</th>\n",
       "      <th>R_1</th>\n",
       "      <th>S_3</th>\n",
       "      <th>D_41</th>\n",
       "      <th>B_3</th>\n",
       "      <th>...</th>\n",
       "      <th>D_136</th>\n",
       "      <th>D_137</th>\n",
       "      <th>D_138</th>\n",
       "      <th>D_139</th>\n",
       "      <th>D_140</th>\n",
       "      <th>D_141</th>\n",
       "      <th>D_142</th>\n",
       "      <th>D_143</th>\n",
       "      <th>D_144</th>\n",
       "      <th>D_145</th>\n",
       "    </tr>\n",
       "  </thead>\n",
       "  <tbody>\n",
       "    <tr>\n",
       "      <th>0</th>\n",
       "      <td>000041bdba6ecadd89a52d11886e8eaaec9325906c9723...</td>\n",
       "      <td>2018-03-29</td>\n",
       "      <td>0.6216</td>\n",
       "      <td>0.001082</td>\n",
       "      <td>0.012566</td>\n",
       "      <td>1.0060</td>\n",
       "      <td>0.007830</td>\n",
       "      <td>0.28780</td>\n",
       "      <td>0.004530</td>\n",
       "      <td>0.009940</td>\n",
       "      <td>...</td>\n",
       "      <td>NaN</td>\n",
       "      <td>NaN</td>\n",
       "      <td>NaN</td>\n",
       "      <td>0.002705</td>\n",
       "      <td>0.006184</td>\n",
       "      <td>0.001899</td>\n",
       "      <td>NaN</td>\n",
       "      <td>0.008190</td>\n",
       "      <td>0.005558</td>\n",
       "      <td>0.002983</td>\n",
       "    </tr>\n",
       "    <tr>\n",
       "      <th>1</th>\n",
       "      <td>00007889e4fcd2614b6cbe7f8f3d2e5c728eca32d9eb8a...</td>\n",
       "      <td>2018-03-30</td>\n",
       "      <td>0.8720</td>\n",
       "      <td>0.005573</td>\n",
       "      <td>0.007680</td>\n",
       "      <td>0.8160</td>\n",
       "      <td>0.001247</td>\n",
       "      <td>NaN</td>\n",
       "      <td>0.000231</td>\n",
       "      <td>0.005527</td>\n",
       "      <td>...</td>\n",
       "      <td>NaN</td>\n",
       "      <td>NaN</td>\n",
       "      <td>NaN</td>\n",
       "      <td>0.002974</td>\n",
       "      <td>0.004160</td>\n",
       "      <td>0.005764</td>\n",
       "      <td>NaN</td>\n",
       "      <td>0.008156</td>\n",
       "      <td>0.006943</td>\n",
       "      <td>0.000905</td>\n",
       "    </tr>\n",
       "    <tr>\n",
       "      <th>2</th>\n",
       "      <td>00018dd4932409baf6083519b52113c2ef58be59e1213e...</td>\n",
       "      <td>2018-03-26</td>\n",
       "      <td>0.8945</td>\n",
       "      <td>0.007793</td>\n",
       "      <td>0.017900</td>\n",
       "      <td>0.8120</td>\n",
       "      <td>0.007027</td>\n",
       "      <td>0.09710</td>\n",
       "      <td>0.008310</td>\n",
       "      <td>0.009980</td>\n",
       "      <td>...</td>\n",
       "      <td>NaN</td>\n",
       "      <td>NaN</td>\n",
       "      <td>NaN</td>\n",
       "      <td>0.004284</td>\n",
       "      <td>0.006910</td>\n",
       "      <td>0.007717</td>\n",
       "      <td>NaN</td>\n",
       "      <td>0.004930</td>\n",
       "      <td>0.008560</td>\n",
       "      <td>0.004406</td>\n",
       "    </tr>\n",
       "    <tr>\n",
       "      <th>3</th>\n",
       "      <td>000198b3dc70edd65dbf0d7eddbcb926c6d7dbd7986af1...</td>\n",
       "      <td>2018-03-28</td>\n",
       "      <td>0.5273</td>\n",
       "      <td>0.360400</td>\n",
       "      <td>0.041720</td>\n",
       "      <td>0.6733</td>\n",
       "      <td>0.006730</td>\n",
       "      <td>0.83900</td>\n",
       "      <td>0.001353</td>\n",
       "      <td>0.049040</td>\n",
       "      <td>...</td>\n",
       "      <td>NaN</td>\n",
       "      <td>NaN</td>\n",
       "      <td>NaN</td>\n",
       "      <td>1.006000</td>\n",
       "      <td>0.005123</td>\n",
       "      <td>0.888700</td>\n",
       "      <td>0.1913</td>\n",
       "      <td>1.010000</td>\n",
       "      <td>0.670400</td>\n",
       "      <td>0.186800</td>\n",
       "    </tr>\n",
       "    <tr>\n",
       "      <th>4</th>\n",
       "      <td>00031e8be98bc3411f6037cbd4d3eeaf24b3ae221682b7...</td>\n",
       "      <td>2018-03-27</td>\n",
       "      <td>0.8280</td>\n",
       "      <td>0.120240</td>\n",
       "      <td>0.027310</td>\n",
       "      <td>1.0020</td>\n",
       "      <td>0.001572</td>\n",
       "      <td>0.17580</td>\n",
       "      <td>0.006530</td>\n",
       "      <td>0.019490</td>\n",
       "      <td>...</td>\n",
       "      <td>NaN</td>\n",
       "      <td>NaN</td>\n",
       "      <td>NaN</td>\n",
       "      <td>1.005000</td>\n",
       "      <td>0.000700</td>\n",
       "      <td>0.890600</td>\n",
       "      <td>0.1610</td>\n",
       "      <td>1.003000</td>\n",
       "      <td>0.509000</td>\n",
       "      <td>0.093600</td>\n",
       "    </tr>\n",
       "    <tr>\n",
       "      <th>...</th>\n",
       "      <td>...</td>\n",
       "      <td>...</td>\n",
       "      <td>...</td>\n",
       "      <td>...</td>\n",
       "      <td>...</td>\n",
       "      <td>...</td>\n",
       "      <td>...</td>\n",
       "      <td>...</td>\n",
       "      <td>...</td>\n",
       "      <td>...</td>\n",
       "      <td>...</td>\n",
       "      <td>...</td>\n",
       "      <td>...</td>\n",
       "      <td>...</td>\n",
       "      <td>...</td>\n",
       "      <td>...</td>\n",
       "      <td>...</td>\n",
       "      <td>...</td>\n",
       "      <td>...</td>\n",
       "      <td>...</td>\n",
       "      <td>...</td>\n",
       "    </tr>\n",
       "    <tr>\n",
       "      <th>90198</th>\n",
       "      <td>fffc59f2e1aa4de05de451121a35c26c61e63cfc38328a...</td>\n",
       "      <td>2018-03-28</td>\n",
       "      <td>0.9110</td>\n",
       "      <td>0.009670</td>\n",
       "      <td>0.006474</td>\n",
       "      <td>0.8190</td>\n",
       "      <td>0.001778</td>\n",
       "      <td>NaN</td>\n",
       "      <td>0.005140</td>\n",
       "      <td>0.009926</td>\n",
       "      <td>...</td>\n",
       "      <td>NaN</td>\n",
       "      <td>NaN</td>\n",
       "      <td>NaN</td>\n",
       "      <td>0.009670</td>\n",
       "      <td>0.009190</td>\n",
       "      <td>0.004960</td>\n",
       "      <td>NaN</td>\n",
       "      <td>0.006645</td>\n",
       "      <td>0.000382</td>\n",
       "      <td>0.007156</td>\n",
       "    </tr>\n",
       "    <tr>\n",
       "      <th>90199</th>\n",
       "      <td>fffd1a37da07c54a930788ab53061cd7bd34d38592205e...</td>\n",
       "      <td>2018-03-30</td>\n",
       "      <td>0.8340</td>\n",
       "      <td>0.003370</td>\n",
       "      <td>0.003210</td>\n",
       "      <td>0.8140</td>\n",
       "      <td>0.009575</td>\n",
       "      <td>NaN</td>\n",
       "      <td>0.002268</td>\n",
       "      <td>0.002842</td>\n",
       "      <td>...</td>\n",
       "      <td>NaN</td>\n",
       "      <td>NaN</td>\n",
       "      <td>NaN</td>\n",
       "      <td>0.000321</td>\n",
       "      <td>0.009250</td>\n",
       "      <td>0.003960</td>\n",
       "      <td>NaN</td>\n",
       "      <td>0.004086</td>\n",
       "      <td>0.009834</td>\n",
       "      <td>0.007088</td>\n",
       "    </tr>\n",
       "    <tr>\n",
       "      <th>90200</th>\n",
       "      <td>fffdc0cf228085b4275b38ebe6eb915766af3fecb2ae28...</td>\n",
       "      <td>2018-03-30</td>\n",
       "      <td>0.9810</td>\n",
       "      <td>0.120800</td>\n",
       "      <td>0.034000</td>\n",
       "      <td>1.0060</td>\n",
       "      <td>0.009260</td>\n",
       "      <td>0.04297</td>\n",
       "      <td>0.007523</td>\n",
       "      <td>0.015144</td>\n",
       "      <td>...</td>\n",
       "      <td>NaN</td>\n",
       "      <td>NaN</td>\n",
       "      <td>NaN</td>\n",
       "      <td>0.009094</td>\n",
       "      <td>0.009410</td>\n",
       "      <td>0.006970</td>\n",
       "      <td>NaN</td>\n",
       "      <td>0.001828</td>\n",
       "      <td>0.003752</td>\n",
       "      <td>0.007240</td>\n",
       "    </tr>\n",
       "    <tr>\n",
       "      <th>90201</th>\n",
       "      <td>fffe39594fad367d9eb8ae18537b56b0739c4cc3ab9810...</td>\n",
       "      <td>2018-03-27</td>\n",
       "      <td>0.1511</td>\n",
       "      <td>0.004130</td>\n",
       "      <td>0.216100</td>\n",
       "      <td>0.0400</td>\n",
       "      <td>0.504000</td>\n",
       "      <td>0.28150</td>\n",
       "      <td>0.007412</td>\n",
       "      <td>0.526000</td>\n",
       "      <td>...</td>\n",
       "      <td>NaN</td>\n",
       "      <td>NaN</td>\n",
       "      <td>NaN</td>\n",
       "      <td>0.008880</td>\n",
       "      <td>0.004110</td>\n",
       "      <td>0.004154</td>\n",
       "      <td>NaN</td>\n",
       "      <td>0.007748</td>\n",
       "      <td>0.006577</td>\n",
       "      <td>0.006187</td>\n",
       "    </tr>\n",
       "    <tr>\n",
       "      <th>90202</th>\n",
       "      <td>ffff41c8a52833b56430603969b9ca48d208e7c192c6a4...</td>\n",
       "      <td>2018-03-31</td>\n",
       "      <td>0.8440</td>\n",
       "      <td>0.447500</td>\n",
       "      <td>0.028520</td>\n",
       "      <td>1.0100</td>\n",
       "      <td>0.001928</td>\n",
       "      <td>0.12870</td>\n",
       "      <td>0.003483</td>\n",
       "      <td>0.005894</td>\n",
       "      <td>...</td>\n",
       "      <td>NaN</td>\n",
       "      <td>NaN</td>\n",
       "      <td>NaN</td>\n",
       "      <td>0.007920</td>\n",
       "      <td>0.001519</td>\n",
       "      <td>0.005530</td>\n",
       "      <td>NaN</td>\n",
       "      <td>0.001430</td>\n",
       "      <td>0.003010</td>\n",
       "      <td>0.004845</td>\n",
       "    </tr>\n",
       "  </tbody>\n",
       "</table>\n",
       "<p>90203 rows × 190 columns</p>\n",
       "</div>"
      ],
      "text/plain": [
       "                                             customer_ID         S_2     P_2  \\\n",
       "0      000041bdba6ecadd89a52d11886e8eaaec9325906c9723...  2018-03-29  0.6216   \n",
       "1      00007889e4fcd2614b6cbe7f8f3d2e5c728eca32d9eb8a...  2018-03-30  0.8720   \n",
       "2      00018dd4932409baf6083519b52113c2ef58be59e1213e...  2018-03-26  0.8945   \n",
       "3      000198b3dc70edd65dbf0d7eddbcb926c6d7dbd7986af1...  2018-03-28  0.5273   \n",
       "4      00031e8be98bc3411f6037cbd4d3eeaf24b3ae221682b7...  2018-03-27  0.8280   \n",
       "...                                                  ...         ...     ...   \n",
       "90198  fffc59f2e1aa4de05de451121a35c26c61e63cfc38328a...  2018-03-28  0.9110   \n",
       "90199  fffd1a37da07c54a930788ab53061cd7bd34d38592205e...  2018-03-30  0.8340   \n",
       "90200  fffdc0cf228085b4275b38ebe6eb915766af3fecb2ae28...  2018-03-30  0.9810   \n",
       "90201  fffe39594fad367d9eb8ae18537b56b0739c4cc3ab9810...  2018-03-27  0.1511   \n",
       "90202  ffff41c8a52833b56430603969b9ca48d208e7c192c6a4...  2018-03-31  0.8440   \n",
       "\n",
       "           D_39       B_1     B_2       R_1      S_3      D_41       B_3  ...  \\\n",
       "0      0.001082  0.012566  1.0060  0.007830  0.28780  0.004530  0.009940  ...   \n",
       "1      0.005573  0.007680  0.8160  0.001247      NaN  0.000231  0.005527  ...   \n",
       "2      0.007793  0.017900  0.8120  0.007027  0.09710  0.008310  0.009980  ...   \n",
       "3      0.360400  0.041720  0.6733  0.006730  0.83900  0.001353  0.049040  ...   \n",
       "4      0.120240  0.027310  1.0020  0.001572  0.17580  0.006530  0.019490  ...   \n",
       "...         ...       ...     ...       ...      ...       ...       ...  ...   \n",
       "90198  0.009670  0.006474  0.8190  0.001778      NaN  0.005140  0.009926  ...   \n",
       "90199  0.003370  0.003210  0.8140  0.009575      NaN  0.002268  0.002842  ...   \n",
       "90200  0.120800  0.034000  1.0060  0.009260  0.04297  0.007523  0.015144  ...   \n",
       "90201  0.004130  0.216100  0.0400  0.504000  0.28150  0.007412  0.526000  ...   \n",
       "90202  0.447500  0.028520  1.0100  0.001928  0.12870  0.003483  0.005894  ...   \n",
       "\n",
       "       D_136  D_137  D_138     D_139     D_140     D_141   D_142     D_143  \\\n",
       "0        NaN    NaN    NaN  0.002705  0.006184  0.001899     NaN  0.008190   \n",
       "1        NaN    NaN    NaN  0.002974  0.004160  0.005764     NaN  0.008156   \n",
       "2        NaN    NaN    NaN  0.004284  0.006910  0.007717     NaN  0.004930   \n",
       "3        NaN    NaN    NaN  1.006000  0.005123  0.888700  0.1913  1.010000   \n",
       "4        NaN    NaN    NaN  1.005000  0.000700  0.890600  0.1610  1.003000   \n",
       "...      ...    ...    ...       ...       ...       ...     ...       ...   \n",
       "90198    NaN    NaN    NaN  0.009670  0.009190  0.004960     NaN  0.006645   \n",
       "90199    NaN    NaN    NaN  0.000321  0.009250  0.003960     NaN  0.004086   \n",
       "90200    NaN    NaN    NaN  0.009094  0.009410  0.006970     NaN  0.001828   \n",
       "90201    NaN    NaN    NaN  0.008880  0.004110  0.004154     NaN  0.007748   \n",
       "90202    NaN    NaN    NaN  0.007920  0.001519  0.005530     NaN  0.001430   \n",
       "\n",
       "          D_144     D_145  \n",
       "0      0.005558  0.002983  \n",
       "1      0.006943  0.000905  \n",
       "2      0.008560  0.004406  \n",
       "3      0.670400  0.186800  \n",
       "4      0.509000  0.093600  \n",
       "...         ...       ...  \n",
       "90198  0.000382  0.007156  \n",
       "90199  0.009834  0.007088  \n",
       "90200  0.003752  0.007240  \n",
       "90201  0.006577  0.006187  \n",
       "90202  0.003010  0.004845  \n",
       "\n",
       "[90203 rows x 190 columns]"
      ]
     },
     "execution_count": 29,
     "metadata": {},
     "output_type": "execute_result"
    }
   ],
   "source": [
    "df_test"
   ]
  },
  {
   "cell_type": "code",
   "execution_count": 30,
   "id": "0e1dd2d6",
   "metadata": {},
   "outputs": [],
   "source": [
    "df_test = df_test.drop(['customer_ID', 'S_2', 'B_30', 'B_38', 'D_114', 'D_116', 'D_117', 'D_120', 'D_126', 'D_63', 'D_64', 'D_66', 'D_68'], axis=1)"
   ]
  },
  {
   "cell_type": "code",
   "execution_count": 31,
   "id": "77f7da6d",
   "metadata": {},
   "outputs": [],
   "source": [
    "df_test = df_test.fillna(df.mean())"
   ]
  },
  {
   "cell_type": "code",
   "execution_count": 32,
   "id": "f5bc40b3",
   "metadata": {},
   "outputs": [],
   "source": [
    "X_tr = df.drop('target', axis=1)\n",
    "Y_tr = df['target']"
   ]
  },
  {
   "cell_type": "code",
   "execution_count": 33,
   "id": "edb9fc28",
   "metadata": {},
   "outputs": [],
   "source": [
    "lr_gr = LogisticRegression(**best_params, class_weight='balanced')\n",
    "lr_gr.fit(X_tr, Y_tr)\n",
    "\n",
    "y_pred_gr_test = lr_gr.predict(df_test)\n",
    "y_score_gr_test = lr_gr.predict_proba(df_test)[:,1]"
   ]
  },
  {
   "cell_type": "code",
   "execution_count": 34,
   "id": "07a6395b",
   "metadata": {},
   "outputs": [
    {
     "data": {
      "text/plain": [
       "0        000041bdba6ecadd89a52d11886e8eaaec9325906c9723...\n",
       "1        00007889e4fcd2614b6cbe7f8f3d2e5c728eca32d9eb8a...\n",
       "2        00018dd4932409baf6083519b52113c2ef58be59e1213e...\n",
       "3        000198b3dc70edd65dbf0d7eddbcb926c6d7dbd7986af1...\n",
       "4        00031e8be98bc3411f6037cbd4d3eeaf24b3ae221682b7...\n",
       "                               ...                        \n",
       "90198    fffc59f2e1aa4de05de451121a35c26c61e63cfc38328a...\n",
       "90199    fffd1a37da07c54a930788ab53061cd7bd34d38592205e...\n",
       "90200    fffdc0cf228085b4275b38ebe6eb915766af3fecb2ae28...\n",
       "90201    fffe39594fad367d9eb8ae18537b56b0739c4cc3ab9810...\n",
       "90202    ffff41c8a52833b56430603969b9ca48d208e7c192c6a4...\n",
       "Name: customer_ID, Length: 90203, dtype: object"
      ]
     },
     "execution_count": 34,
     "metadata": {},
     "output_type": "execute_result"
    }
   ],
   "source": [
    "cust_id"
   ]
  },
  {
   "cell_type": "code",
   "execution_count": 35,
   "id": "e2d71424",
   "metadata": {},
   "outputs": [
    {
     "data": {
      "text/plain": [
       "90203"
      ]
     },
     "execution_count": 35,
     "metadata": {},
     "output_type": "execute_result"
    }
   ],
   "source": [
    "len(y_score_gr_test)"
   ]
  },
  {
   "cell_type": "code",
   "execution_count": 36,
   "id": "954618e1",
   "metadata": {},
   "outputs": [],
   "source": [
    "result = pd.DataFrame(cust_id)"
   ]
  },
  {
   "cell_type": "code",
   "execution_count": 38,
   "id": "f435cdf1",
   "metadata": {},
   "outputs": [],
   "source": [
    "result['score'] = y_score_gr_test"
   ]
  },
  {
   "cell_type": "code",
   "execution_count": 39,
   "id": "1b6cbef9",
   "metadata": {},
   "outputs": [
    {
     "data": {
      "text/html": [
       "<div>\n",
       "<style scoped>\n",
       "    .dataframe tbody tr th:only-of-type {\n",
       "        vertical-align: middle;\n",
       "    }\n",
       "\n",
       "    .dataframe tbody tr th {\n",
       "        vertical-align: top;\n",
       "    }\n",
       "\n",
       "    .dataframe thead th {\n",
       "        text-align: right;\n",
       "    }\n",
       "</style>\n",
       "<table border=\"1\" class=\"dataframe\">\n",
       "  <thead>\n",
       "    <tr style=\"text-align: right;\">\n",
       "      <th></th>\n",
       "      <th>customer_ID</th>\n",
       "      <th>score</th>\n",
       "    </tr>\n",
       "  </thead>\n",
       "  <tbody>\n",
       "    <tr>\n",
       "      <th>0</th>\n",
       "      <td>000041bdba6ecadd89a52d11886e8eaaec9325906c9723...</td>\n",
       "      <td>0.039938</td>\n",
       "    </tr>\n",
       "    <tr>\n",
       "      <th>1</th>\n",
       "      <td>00007889e4fcd2614b6cbe7f8f3d2e5c728eca32d9eb8a...</td>\n",
       "      <td>0.037130</td>\n",
       "    </tr>\n",
       "    <tr>\n",
       "      <th>2</th>\n",
       "      <td>00018dd4932409baf6083519b52113c2ef58be59e1213e...</td>\n",
       "      <td>0.009771</td>\n",
       "    </tr>\n",
       "    <tr>\n",
       "      <th>3</th>\n",
       "      <td>000198b3dc70edd65dbf0d7eddbcb926c6d7dbd7986af1...</td>\n",
       "      <td>0.422923</td>\n",
       "    </tr>\n",
       "    <tr>\n",
       "      <th>4</th>\n",
       "      <td>00031e8be98bc3411f6037cbd4d3eeaf24b3ae221682b7...</td>\n",
       "      <td>0.071476</td>\n",
       "    </tr>\n",
       "    <tr>\n",
       "      <th>...</th>\n",
       "      <td>...</td>\n",
       "      <td>...</td>\n",
       "    </tr>\n",
       "    <tr>\n",
       "      <th>90198</th>\n",
       "      <td>fffc59f2e1aa4de05de451121a35c26c61e63cfc38328a...</td>\n",
       "      <td>0.016262</td>\n",
       "    </tr>\n",
       "    <tr>\n",
       "      <th>90199</th>\n",
       "      <td>fffd1a37da07c54a930788ab53061cd7bd34d38592205e...</td>\n",
       "      <td>0.014983</td>\n",
       "    </tr>\n",
       "    <tr>\n",
       "      <th>90200</th>\n",
       "      <td>fffdc0cf228085b4275b38ebe6eb915766af3fecb2ae28...</td>\n",
       "      <td>0.000576</td>\n",
       "    </tr>\n",
       "    <tr>\n",
       "      <th>90201</th>\n",
       "      <td>fffe39594fad367d9eb8ae18537b56b0739c4cc3ab9810...</td>\n",
       "      <td>0.953429</td>\n",
       "    </tr>\n",
       "    <tr>\n",
       "      <th>90202</th>\n",
       "      <td>ffff41c8a52833b56430603969b9ca48d208e7c192c6a4...</td>\n",
       "      <td>0.030195</td>\n",
       "    </tr>\n",
       "  </tbody>\n",
       "</table>\n",
       "<p>90203 rows × 2 columns</p>\n",
       "</div>"
      ],
      "text/plain": [
       "                                             customer_ID     score\n",
       "0      000041bdba6ecadd89a52d11886e8eaaec9325906c9723...  0.039938\n",
       "1      00007889e4fcd2614b6cbe7f8f3d2e5c728eca32d9eb8a...  0.037130\n",
       "2      00018dd4932409baf6083519b52113c2ef58be59e1213e...  0.009771\n",
       "3      000198b3dc70edd65dbf0d7eddbcb926c6d7dbd7986af1...  0.422923\n",
       "4      00031e8be98bc3411f6037cbd4d3eeaf24b3ae221682b7...  0.071476\n",
       "...                                                  ...       ...\n",
       "90198  fffc59f2e1aa4de05de451121a35c26c61e63cfc38328a...  0.016262\n",
       "90199  fffd1a37da07c54a930788ab53061cd7bd34d38592205e...  0.014983\n",
       "90200  fffdc0cf228085b4275b38ebe6eb915766af3fecb2ae28...  0.000576\n",
       "90201  fffe39594fad367d9eb8ae18537b56b0739c4cc3ab9810...  0.953429\n",
       "90202  ffff41c8a52833b56430603969b9ca48d208e7c192c6a4...  0.030195\n",
       "\n",
       "[90203 rows x 2 columns]"
      ]
     },
     "execution_count": 39,
     "metadata": {},
     "output_type": "execute_result"
    }
   ],
   "source": [
    "result"
   ]
  },
  {
   "cell_type": "code",
   "execution_count": 40,
   "id": "fbcdefb5",
   "metadata": {},
   "outputs": [],
   "source": [
    "result.to_csv('result_fb.csv')"
   ]
  },
  {
   "cell_type": "code",
   "execution_count": null,
   "id": "29c9e8b8",
   "metadata": {},
   "outputs": [],
   "source": []
  }
 ],
 "metadata": {
  "kernelspec": {
   "display_name": "Python 3 (ipykernel)",
   "language": "python",
   "name": "python3"
  },
  "language_info": {
   "codemirror_mode": {
    "name": "ipython",
    "version": 3
   },
   "file_extension": ".py",
   "mimetype": "text/x-python",
   "name": "python",
   "nbconvert_exporter": "python",
   "pygments_lexer": "ipython3",
   "version": "3.9.7"
  }
 },
 "nbformat": 4,
 "nbformat_minor": 5
}
